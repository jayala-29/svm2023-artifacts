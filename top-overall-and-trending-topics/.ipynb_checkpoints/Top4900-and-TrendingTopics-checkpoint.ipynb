{
 "cells": [
  {
   "cell_type": "code",
   "execution_count": 1,
   "id": "c2285185",
   "metadata": {},
   "outputs": [],
   "source": [
    "import os\n",
    "import pandas as pd\n",
    "import numpy as np\n",
    "import matplotlib.pyplot as plt"
   ]
  },
  {
   "cell_type": "markdown",
   "id": "374acbab",
   "metadata": {},
   "source": [
    "# Overall Top ~4900"
   ]
  },
  {
   "cell_type": "code",
   "execution_count": 32,
   "id": "08a16044",
   "metadata": {},
   "outputs": [
    {
     "name": "stdout",
     "output_type": "stream",
     "text": [
      "0.5059 0.1886 0.1551 4.46\n",
      "4894\n",
      "2476 923\n"
     ]
    }
   ],
   "source": [
    "df = pd.read_csv('top-info.csv')\n",
    "percent_workflow = round(df[df['wf_contents'].notnull()].shape[0] / df.shape[0],4) \n",
    "percent_scpolicy = round(df[df['security_policy'].notnull()].shape[0] / df.shape[0],4) \n",
    "wf_df = df[df['wf_contents'].notnull()]\n",
    "wf_and_sc = round(wf_df[wf_df['security_policy'].notnull()].shape[0] / df.shape[0],4)\n",
    "total_wf = 0\n",
    "for index, row in wf_df.iterrows():\n",
    "    total_wf += row['wf_contents'].count(\"'active'\")\n",
    "avg_wfs = round(total_wf / wf_df.shape[0],2)\n",
    "print(percent_workflow,percent_scpolicy,wf_and_sc,avg_wfs)\n",
    "print(df.shape[0])\n",
    "\n",
    "print(df[df['wf_contents'].notnull()].shape[0],df[df['security_policy'].notnull()].shape[0])"
   ]
  },
  {
   "cell_type": "code",
   "execution_count": 33,
   "id": "0c0a3f55",
   "metadata": {},
   "outputs": [
    {
     "name": "stdout",
     "output_type": "stream",
     "text": [
      "2476\n",
      "923\n"
     ]
    }
   ],
   "source": [
    "print(wf_df.shape[0])\n",
    "print(df[df['security_policy'].notnull()].shape[0])"
   ]
  },
  {
   "cell_type": "code",
   "execution_count": 37,
   "id": "af709968",
   "metadata": {},
   "outputs": [
    {
     "data": {
      "text/html": [
       "<div>\n",
       "<style scoped>\n",
       "    .dataframe tbody tr th:only-of-type {\n",
       "        vertical-align: middle;\n",
       "    }\n",
       "\n",
       "    .dataframe tbody tr th {\n",
       "        vertical-align: top;\n",
       "    }\n",
       "\n",
       "    .dataframe thead th {\n",
       "        text-align: right;\n",
       "    }\n",
       "</style>\n",
       "<table border=\"1\" class=\"dataframe\">\n",
       "  <thead>\n",
       "    <tr style=\"text-align: right;\">\n",
       "      <th></th>\n",
       "      <th>author_repo</th>\n",
       "      <th>wf_contents</th>\n",
       "      <th>security_policy</th>\n",
       "    </tr>\n",
       "  </thead>\n",
       "  <tbody>\n",
       "    <tr>\n",
       "      <th>1403</th>\n",
       "      <td>google/brotli</td>\n",
       "      <td>Build/Test' 'active' '12377915' 'Build/Test Ubuntu' 'active' '12366285' 'CIFuzz' 'active' '805873' 'Release build / deploy' 'active' '44493730</td>\n",
       "      <td>To report a security issue please use httpsgcovulnz We use gcovulnz' 'for our intake and do coordination and disclosure here on GitHub including' 'using GitHub Security Advisory The Google Security Team will respond within ' 'working days of your report on gcovulnz</td>\n",
       "    </tr>\n",
       "    <tr>\n",
       "      <th>4715</th>\n",
       "      <td>tc39/proposal-pattern-matching</td>\n",
       "      <td>Deploy spec' 'active' '8304844' 'pages-build-deployment' 'active' '17905816</td>\n",
       "      <td>NaN</td>\n",
       "    </tr>\n",
       "    <tr>\n",
       "      <th>3627</th>\n",
       "      <td>tabulapdf/tabula</td>\n",
       "      <td>NaN</td>\n",
       "      <td>NaN</td>\n",
       "    </tr>\n",
       "  </tbody>\n",
       "</table>\n",
       "</div>"
      ],
      "text/plain": [
       "                         author_repo  \\\n",
       "1403                   google/brotli   \n",
       "4715  tc39/proposal-pattern-matching   \n",
       "3627                tabulapdf/tabula   \n",
       "\n",
       "                                                                                                                                         wf_contents  \\\n",
       "1403  Build/Test' 'active' '12377915' 'Build/Test Ubuntu' 'active' '12366285' 'CIFuzz' 'active' '805873' 'Release build / deploy' 'active' '44493730   \n",
       "4715                                                                     Deploy spec' 'active' '8304844' 'pages-build-deployment' 'active' '17905816   \n",
       "3627                                                                                                                                             NaN   \n",
       "\n",
       "                                                                                                                                                                                                                                                                security_policy  \n",
       "1403  To report a security issue please use httpsgcovulnz We use gcovulnz' 'for our intake and do coordination and disclosure here on GitHub including' 'using GitHub Security Advisory The Google Security Team will respond within ' 'working days of your report on gcovulnz  \n",
       "4715                                                                                                                                                                                                                                                                        NaN  \n",
       "3627                                                                                                                                                                                                                                                                        NaN  "
      ]
     },
     "metadata": {},
     "output_type": "display_data"
    }
   ],
   "source": [
    "rand_df = df.sample(3)\n",
    "with pd.option_context('display.max_colwidth', None):\n",
    "  display(rand_df)\n"
   ]
  },
  {
   "cell_type": "markdown",
   "id": "92798659",
   "metadata": {},
   "source": [
    "# GitHub topics (using top 1000)"
   ]
  },
  {
   "cell_type": "code",
   "execution_count": 6,
   "id": "f8d21f86",
   "metadata": {},
   "outputs": [],
   "source": [
    "topic_df1 = pd.DataFrame(columns=['topic','percent_wf','percent_sp','avg_wfs','percent_wf_and_sp'])\n",
    "overall_wfs = 0\n",
    "overall_scs = 0\n",
    "overall_both = 0\n",
    "overall_repos = 0\n",
    "for file in os.listdir('1000-output'):\n",
    "    if file.endswith(\".csv\"):\n",
    "        df = pd.read_csv('./1000-output/' + file)\n",
    "        percent_workflow = round(df[df['wf_contents'].notnull()].shape[0] / df.shape[0],4) \n",
    "        percent_scpolicy = round(df[df['security_policy'].notnull()].shape[0] / df.shape[0],4) \n",
    "        wf_df = df[df['wf_contents'].notnull()]\n",
    "        wf_and_sc = round(wf_df[wf_df['security_policy'].notnull()].shape[0] / df.shape[0],4)\n",
    "        total_wf = 0\n",
    "        for index, row in wf_df.iterrows():\n",
    "            total_wf += row['wf_contents'].count(\"'active'\")\n",
    "        avg_wfs = round(total_wf / wf_df.shape[0],2)\n",
    "        topic_df1.loc[len(topic_df1.index)] = [file.removesuffix('-info.csv'),percent_workflow,percent_scpolicy,avg_wfs,wf_and_sc]\n",
    "        overall_wfs += wf_df.shape[0]\n",
    "        overall_scs += df[df['security_policy'].notnull()].shape[0]\n",
    "        overall_both += wf_df[wf_df['security_policy'].notnull()].shape[0]\n",
    "        overall_repos += df.shape[0]"
   ]
  },
  {
   "cell_type": "code",
   "execution_count": 7,
   "id": "8e5e5bbf",
   "metadata": {},
   "outputs": [
    {
     "data": {
      "text/html": [
       "<div>\n",
       "<style scoped>\n",
       "    .dataframe tbody tr th:only-of-type {\n",
       "        vertical-align: middle;\n",
       "    }\n",
       "\n",
       "    .dataframe tbody tr th {\n",
       "        vertical-align: top;\n",
       "    }\n",
       "\n",
       "    .dataframe thead th {\n",
       "        text-align: right;\n",
       "    }\n",
       "</style>\n",
       "<table border=\"1\" class=\"dataframe\">\n",
       "  <thead>\n",
       "    <tr style=\"text-align: right;\">\n",
       "      <th></th>\n",
       "      <th>topic</th>\n",
       "      <th>percent_wf</th>\n",
       "      <th>percent_sp</th>\n",
       "      <th>avg_wfs</th>\n",
       "      <th>percent_wf_and_sp</th>\n",
       "    </tr>\n",
       "  </thead>\n",
       "  <tbody>\n",
       "    <tr>\n",
       "      <th>0</th>\n",
       "      <td>Monitoring</td>\n",
       "      <td>0.4680</td>\n",
       "      <td>0.1170</td>\n",
       "      <td>3.80</td>\n",
       "      <td>0.0860</td>\n",
       "    </tr>\n",
       "    <tr>\n",
       "      <th>1</th>\n",
       "      <td>Firefox</td>\n",
       "      <td>0.2720</td>\n",
       "      <td>0.0380</td>\n",
       "      <td>2.58</td>\n",
       "      <td>0.0240</td>\n",
       "    </tr>\n",
       "    <tr>\n",
       "      <th>2</th>\n",
       "      <td>DotNET</td>\n",
       "      <td>0.5240</td>\n",
       "      <td>0.1230</td>\n",
       "      <td>3.45</td>\n",
       "      <td>0.0930</td>\n",
       "    </tr>\n",
       "    <tr>\n",
       "      <th>3</th>\n",
       "      <td>P2P</td>\n",
       "      <td>0.3280</td>\n",
       "      <td>0.0550</td>\n",
       "      <td>3.28</td>\n",
       "      <td>0.0440</td>\n",
       "    </tr>\n",
       "    <tr>\n",
       "      <th>4</th>\n",
       "      <td>Dependency-management</td>\n",
       "      <td>0.4079</td>\n",
       "      <td>0.0658</td>\n",
       "      <td>1.77</td>\n",
       "      <td>0.0658</td>\n",
       "    </tr>\n",
       "    <tr>\n",
       "      <th>...</th>\n",
       "      <td>...</td>\n",
       "      <td>...</td>\n",
       "      <td>...</td>\n",
       "      <td>...</td>\n",
       "      <td>...</td>\n",
       "    </tr>\n",
       "    <tr>\n",
       "      <th>175</th>\n",
       "      <td>Laravel</td>\n",
       "      <td>0.5440</td>\n",
       "      <td>0.1470</td>\n",
       "      <td>2.69</td>\n",
       "      <td>0.1260</td>\n",
       "    </tr>\n",
       "    <tr>\n",
       "      <th>176</th>\n",
       "      <td>WordPress</td>\n",
       "      <td>0.3470</td>\n",
       "      <td>0.0880</td>\n",
       "      <td>3.70</td>\n",
       "      <td>0.0630</td>\n",
       "    </tr>\n",
       "    <tr>\n",
       "      <th>177</th>\n",
       "      <td>JavaScript</td>\n",
       "      <td>0.6230</td>\n",
       "      <td>0.2120</td>\n",
       "      <td>4.79</td>\n",
       "      <td>0.1960</td>\n",
       "    </tr>\n",
       "    <tr>\n",
       "      <th>178</th>\n",
       "      <td>Elixir</td>\n",
       "      <td>0.4410</td>\n",
       "      <td>0.0340</td>\n",
       "      <td>1.95</td>\n",
       "      <td>0.0290</td>\n",
       "    </tr>\n",
       "    <tr>\n",
       "      <th>179</th>\n",
       "      <td>Material-Design</td>\n",
       "      <td>0.2530</td>\n",
       "      <td>0.0200</td>\n",
       "      <td>2.31</td>\n",
       "      <td>0.0140</td>\n",
       "    </tr>\n",
       "  </tbody>\n",
       "</table>\n",
       "<p>180 rows × 5 columns</p>\n",
       "</div>"
      ],
      "text/plain": [
       "                     topic  percent_wf  percent_sp  avg_wfs  percent_wf_and_sp\n",
       "0               Monitoring      0.4680      0.1170     3.80             0.0860\n",
       "1                  Firefox      0.2720      0.0380     2.58             0.0240\n",
       "2                   DotNET      0.5240      0.1230     3.45             0.0930\n",
       "3                      P2P      0.3280      0.0550     3.28             0.0440\n",
       "4    Dependency-management      0.4079      0.0658     1.77             0.0658\n",
       "..                     ...         ...         ...      ...                ...\n",
       "175                Laravel      0.5440      0.1470     2.69             0.1260\n",
       "176              WordPress      0.3470      0.0880     3.70             0.0630\n",
       "177             JavaScript      0.6230      0.2120     4.79             0.1960\n",
       "178                 Elixir      0.4410      0.0340     1.95             0.0290\n",
       "179        Material-Design      0.2530      0.0200     2.31             0.0140\n",
       "\n",
       "[180 rows x 5 columns]"
      ]
     },
     "execution_count": 7,
     "metadata": {},
     "output_type": "execute_result"
    }
   ],
   "source": [
    "topic_df1"
   ]
  },
  {
   "cell_type": "code",
   "execution_count": 8,
   "id": "eb0738b3",
   "metadata": {},
   "outputs": [
    {
     "data": {
      "image/png": "[encoded data removed]",
      "text/plain": [
       "<Figure size 432x288 with 1 Axes>"
      ]
     },
     "metadata": {
      "needs_background": "light"
     },
     "output_type": "display_data"
    },
    {
     "data": {
      "image/png": "[encoded data removed]",
      "text/plain": [
       "<Figure size 432x288 with 1 Axes>"
      ]
     },
     "metadata": {
      "needs_background": "light"
     },
     "output_type": "display_data"
    }
   ],
   "source": [
    "# Plot the dataframe\n",
    "topic_df1[['percent_wf', 'percent_sp', 'percent_wf_and_sp']].plot(kind='box')\n",
    "plt.ylabel(\"Percentage of Collected Repos\",fontweight='bold')\n",
    "plt.yticks([0,0.2,0.4,0.6,0.8,1.0],labels=['0','20','40','60','80','100'])\n",
    "plt.xticks([1,2,3],labels=['Workflows','Security Policies','Both'])\n",
    "plt.xlabel(\"Repo Configurations\",fontweight='bold')\n",
    "\n",
    "# Display the plot\n",
    "plt.show()\n",
    "\n",
    "# Plot the dataframe\n",
    "topic_df1['avg_wfs'].plot(kind='box')\n",
    "plt.ylabel(\"Average Number of Workflows\",fontweight='bold')\n",
    "plt.xticks([1])\n",
    "plt.xlabel('Sample Source',fontweight='bold')\n",
    "\n",
    "#plt.xticks([1,2,3],labels=['Workflows','Security Policies','Both'])\n",
    "plt.show()"
   ]
  },
  {
   "cell_type": "code",
   "execution_count": 9,
   "id": "2dee3db2",
   "metadata": {},
   "outputs": [
    {
     "name": "stdout",
     "output_type": "stream",
     "text": [
      "0.36572505379795744\n",
      "0.06811237531357373\n",
      "0.05185409756155556\n"
     ]
    }
   ],
   "source": [
    "print(overall_wfs / overall_repos)\n",
    "print(overall_scs / overall_repos)\n",
    "print(overall_both / overall_repos)"
   ]
  },
  {
   "cell_type": "code",
   "execution_count": 10,
   "id": "a8ce7591",
   "metadata": {},
   "outputs": [
    {
     "name": "stdout",
     "output_type": "stream",
     "text": [
      "0.3550099999999998\n",
      "0.06518833333333335\n",
      "0.04955555555555553\n",
      "2.8722777777777764\n"
     ]
    }
   ],
   "source": [
    "print(topic_df1['percent_wf'].mean())\n",
    "print(topic_df1['percent_sp'].mean())\n",
    "print(topic_df1['percent_wf_and_sp'].mean())\n",
    "print(topic_df1['avg_wfs'].mean())"
   ]
  },
  {
   "cell_type": "code",
   "execution_count": 11,
   "id": "1eb20b06",
   "metadata": {},
   "outputs": [
    {
     "name": "stdout",
     "output_type": "stream",
     "text": [
      "61523\n",
      "11458\n",
      "168222\n"
     ]
    }
   ],
   "source": [
    "print(overall_wfs)\n",
    "print(overall_scs)\n",
    "print(overall_repos)"
   ]
  },
  {
   "cell_type": "code",
   "execution_count": 12,
   "id": "298ccab9",
   "metadata": {},
   "outputs": [],
   "source": [
    "i=168222+4894"
   ]
  },
  {
   "cell_type": "code",
   "execution_count": 13,
   "id": "2c76ce3d",
   "metadata": {},
   "outputs": [
    {
     "name": "stdout",
     "output_type": "stream",
     "text": [
      "173116\n"
     ]
    }
   ],
   "source": [
    "print(i)"
   ]
  },
  {
   "cell_type": "code",
   "execution_count": 14,
   "id": "e4f78849",
   "metadata": {},
   "outputs": [
    {
     "name": "stdout",
     "output_type": "stream",
     "text": [
      "0.3696885325446521\n",
      "0.07151851937429238\n"
     ]
    }
   ],
   "source": [
    "print((2476 + overall_wfs) / 173116)\n",
    "print((923 + overall_scs) / 173116)"
   ]
  },
  {
   "cell_type": "markdown",
   "id": "5e0a824b",
   "metadata": {},
   "source": [
    "# GitHub topics (using top 100)"
   ]
  },
  {
   "cell_type": "code",
   "execution_count": 15,
   "id": "141b360f",
   "metadata": {},
   "outputs": [],
   "source": [
    "topic_df2 = pd.DataFrame(columns=['topic','percent_wf','percent_sp','avg_wfs','percent_wf_and_sp'])\n",
    "overall_wfs = 0\n",
    "overall_scs = 0\n",
    "overall_both = 0\n",
    "overall_repos = 0\n",
    "for file in os.listdir('100-output'):\n",
    "    if file.endswith(\".csv\"):\n",
    "        df = pd.read_csv('./100-output/' + file)\n",
    "        percent_workflow = round(df[df['wf_contents'].notnull()].shape[0] / df.shape[0],4) \n",
    "        percent_scpolicy = round(df[df['security_policy'].notnull()].shape[0] / df.shape[0],4) \n",
    "        wf_df = df[df['wf_contents'].notnull()]\n",
    "        wf_and_sc = round(wf_df[wf_df['security_policy'].notnull()].shape[0] / df.shape[0],4)\n",
    "        total_wf = 0\n",
    "        for index, row in wf_df.iterrows():\n",
    "            total_wf += row['wf_contents'].count(\"'active'\")\n",
    "        avg_wfs = round(total_wf / wf_df.shape[0],2)\n",
    "        topic_df2.loc[len(topic_df2.index)] = [file.removesuffix('-info.csv'),percent_workflow,percent_scpolicy,avg_wfs,wf_and_sc]\n",
    "        overall_wfs += wf_df.shape[0]\n",
    "        overall_scs += df[df['security_policy'].notnull()].shape[0]\n",
    "        overall_both += wf_df[wf_df['security_policy'].notnull()].shape[0]\n",
    "        overall_repos += df.shape[0]"
   ]
  },
  {
   "cell_type": "code",
   "execution_count": 16,
   "id": "de697592",
   "metadata": {},
   "outputs": [
    {
     "data": {
      "text/html": [
       "<div>\n",
       "<style scoped>\n",
       "    .dataframe tbody tr th:only-of-type {\n",
       "        vertical-align: middle;\n",
       "    }\n",
       "\n",
       "    .dataframe tbody tr th {\n",
       "        vertical-align: top;\n",
       "    }\n",
       "\n",
       "    .dataframe thead th {\n",
       "        text-align: right;\n",
       "    }\n",
       "</style>\n",
       "<table border=\"1\" class=\"dataframe\">\n",
       "  <thead>\n",
       "    <tr style=\"text-align: right;\">\n",
       "      <th></th>\n",
       "      <th>topic</th>\n",
       "      <th>percent_wf</th>\n",
       "      <th>percent_sp</th>\n",
       "      <th>avg_wfs</th>\n",
       "      <th>percent_wf_and_sp</th>\n",
       "    </tr>\n",
       "  </thead>\n",
       "  <tbody>\n",
       "    <tr>\n",
       "      <th>0</th>\n",
       "      <td>Monitoring</td>\n",
       "      <td>0.67</td>\n",
       "      <td>0.3400</td>\n",
       "      <td>7.61</td>\n",
       "      <td>0.2700</td>\n",
       "    </tr>\n",
       "    <tr>\n",
       "      <th>1</th>\n",
       "      <td>Firefox</td>\n",
       "      <td>0.53</td>\n",
       "      <td>0.1300</td>\n",
       "      <td>4.47</td>\n",
       "      <td>0.1200</td>\n",
       "    </tr>\n",
       "    <tr>\n",
       "      <th>2</th>\n",
       "      <td>DotNET</td>\n",
       "      <td>0.74</td>\n",
       "      <td>0.2900</td>\n",
       "      <td>4.59</td>\n",
       "      <td>0.2600</td>\n",
       "    </tr>\n",
       "    <tr>\n",
       "      <th>3</th>\n",
       "      <td>P2P</td>\n",
       "      <td>0.62</td>\n",
       "      <td>0.2100</td>\n",
       "      <td>4.24</td>\n",
       "      <td>0.1700</td>\n",
       "    </tr>\n",
       "    <tr>\n",
       "      <th>4</th>\n",
       "      <td>Dependency-management</td>\n",
       "      <td>0.40</td>\n",
       "      <td>0.0667</td>\n",
       "      <td>1.80</td>\n",
       "      <td>0.0667</td>\n",
       "    </tr>\n",
       "    <tr>\n",
       "      <th>...</th>\n",
       "      <td>...</td>\n",
       "      <td>...</td>\n",
       "      <td>...</td>\n",
       "      <td>...</td>\n",
       "      <td>...</td>\n",
       "    </tr>\n",
       "    <tr>\n",
       "      <th>175</th>\n",
       "      <td>Laravel</td>\n",
       "      <td>0.75</td>\n",
       "      <td>0.3400</td>\n",
       "      <td>4.16</td>\n",
       "      <td>0.3000</td>\n",
       "    </tr>\n",
       "    <tr>\n",
       "      <th>176</th>\n",
       "      <td>WordPress</td>\n",
       "      <td>0.48</td>\n",
       "      <td>0.1900</td>\n",
       "      <td>7.31</td>\n",
       "      <td>0.1700</td>\n",
       "    </tr>\n",
       "    <tr>\n",
       "      <th>177</th>\n",
       "      <td>JavaScript</td>\n",
       "      <td>0.81</td>\n",
       "      <td>0.4300</td>\n",
       "      <td>6.47</td>\n",
       "      <td>0.4200</td>\n",
       "    </tr>\n",
       "    <tr>\n",
       "      <th>178</th>\n",
       "      <td>Elixir</td>\n",
       "      <td>0.70</td>\n",
       "      <td>0.1000</td>\n",
       "      <td>2.89</td>\n",
       "      <td>0.1000</td>\n",
       "    </tr>\n",
       "    <tr>\n",
       "      <th>179</th>\n",
       "      <td>Material-Design</td>\n",
       "      <td>0.50</td>\n",
       "      <td>0.1100</td>\n",
       "      <td>3.10</td>\n",
       "      <td>0.0900</td>\n",
       "    </tr>\n",
       "  </tbody>\n",
       "</table>\n",
       "<p>180 rows × 5 columns</p>\n",
       "</div>"
      ],
      "text/plain": [
       "                     topic  percent_wf  percent_sp  avg_wfs  percent_wf_and_sp\n",
       "0               Monitoring        0.67      0.3400     7.61             0.2700\n",
       "1                  Firefox        0.53      0.1300     4.47             0.1200\n",
       "2                   DotNET        0.74      0.2900     4.59             0.2600\n",
       "3                      P2P        0.62      0.2100     4.24             0.1700\n",
       "4    Dependency-management        0.40      0.0667     1.80             0.0667\n",
       "..                     ...         ...         ...      ...                ...\n",
       "175                Laravel        0.75      0.3400     4.16             0.3000\n",
       "176              WordPress        0.48      0.1900     7.31             0.1700\n",
       "177             JavaScript        0.81      0.4300     6.47             0.4200\n",
       "178                 Elixir        0.70      0.1000     2.89             0.1000\n",
       "179        Material-Design        0.50      0.1100     3.10             0.0900\n",
       "\n",
       "[180 rows x 5 columns]"
      ]
     },
     "execution_count": 16,
     "metadata": {},
     "output_type": "execute_result"
    }
   ],
   "source": [
    "topic_df2"
   ]
  },
  {
   "cell_type": "code",
   "execution_count": 17,
   "id": "6a6c7535",
   "metadata": {},
   "outputs": [
    {
     "data": {
      "image/png": "[encoded data removed]",
      "text/plain": [
       "<Figure size 432x288 with 1 Axes>"
      ]
     },
     "metadata": {
      "needs_background": "light"
     },
     "output_type": "display_data"
    },
    {
     "data": {
      "image/png": "[encoded data removed]",
      "text/plain": [
       "<Figure size 432x288 with 1 Axes>"
      ]
     },
     "metadata": {
      "needs_background": "light"
     },
     "output_type": "display_data"
    }
   ],
   "source": [
    "# Plot the dataframe\n",
    "topic_df2[['percent_wf', 'percent_sp', 'percent_wf_and_sp']].plot(kind='box')\n",
    "plt.ylabel(\"Percentage of Collected Repos\",fontweight='bold')\n",
    "plt.yticks([0,0.2,0.4,0.6,0.8,1.0],labels=['0','20','40','60','80','100'])\n",
    "plt.xticks([1,2,3],labels=['Workflows','Security Policies','Both'])\n",
    "plt.xlabel(\"Repo Configurations\",fontweight='bold')\n",
    "\n",
    "# Display the plot\n",
    "plt.show()\n",
    "\n",
    "# Plot the dataframe\n",
    "topic_df2['avg_wfs'].plot(kind='box')\n",
    "plt.ylabel(\"Average Number of Workflows\",fontweight='bold')\n",
    "plt.xticks([])\n",
    "plt.show()"
   ]
  },
  {
   "cell_type": "code",
   "execution_count": 18,
   "id": "58020cb0",
   "metadata": {},
   "outputs": [
    {
     "name": "stdout",
     "output_type": "stream",
     "text": [
      "0.5514668760868345\n",
      "0.1594211028215628\n",
      "0.13614180737084197\n"
     ]
    }
   ],
   "source": [
    "print(overall_wfs / overall_repos)\n",
    "print(overall_scs / overall_repos)\n",
    "print(overall_both / overall_repos)"
   ]
  },
  {
   "cell_type": "code",
   "execution_count": 19,
   "id": "52c4a900",
   "metadata": {},
   "outputs": [
    {
     "name": "stdout",
     "output_type": "stream",
     "text": [
      "0.5484583333333332\n",
      "0.15803611111111102\n",
      "0.13493777777777782\n",
      "4.440333333333332\n"
     ]
    }
   ],
   "source": [
    "print(topic_df2['percent_wf'].mean())\n",
    "print(topic_df2['percent_sp'].mean())\n",
    "print(topic_df2['percent_wf_and_sp'].mean())\n",
    "print(topic_df2['avg_wfs'].mean())"
   ]
  },
  {
   "cell_type": "code",
   "execution_count": 20,
   "id": "cd2d30fa",
   "metadata": {},
   "outputs": [
    {
     "name": "stdout",
     "output_type": "stream",
     "text": [
      "9831\n",
      "2842\n",
      "17827\n"
     ]
    }
   ],
   "source": [
    "print(overall_wfs)\n",
    "print(overall_scs)\n",
    "print(overall_repos)"
   ]
  },
  {
   "cell_type": "code",
   "execution_count": 28,
   "id": "08521daf",
   "metadata": {},
   "outputs": [
    {
     "data": {
      "text/plain": [
       "0.4840498085977032"
      ]
     },
     "execution_count": 28,
     "metadata": {},
     "output_type": "execute_result"
    }
   ],
   "source": [
    "(9831 + 1170) / (17827 + 4900)\n"
   ]
  },
  {
   "cell_type": "code",
   "execution_count": 23,
   "id": "972e545a",
   "metadata": {},
   "outputs": [
    {
     "data": {
      "image/png": "[encoded data removed]",
      "text/plain": [
       "<Figure size 432x288 with 1 Axes>"
      ]
     },
     "metadata": {
      "needs_background": "light"
     },
     "output_type": "display_data"
    }
   ],
   "source": [
    "combined_dfs = pd.DataFrame({'Top 100 Repos per Topic': topic_df2['avg_wfs'],\n",
    "                             'Top 1000 Repos per Topic': topic_df1['avg_wfs']})\n",
    "combined_dfs.plot(kind='box')\n",
    "plt.ylabel('Average Number of Workflows',fontweight='bold')\n",
    "plt.xlabel('Sample Source',fontweight='bold')\n",
    "plt.show()"
   ]
  },
  {
   "cell_type": "code",
   "execution_count": 29,
   "id": "ef313ec2",
   "metadata": {},
   "outputs": [
    {
     "name": "stdout",
     "output_type": "stream",
     "text": [
      "0.5415144981739781\n",
      "0.16566198794385534\n"
     ]
    }
   ],
   "source": [
    "print((2476 + overall_wfs) / (17827 + 4900))\n",
    "print((923 + overall_scs) / (17827 + 4900))"
   ]
  },
  {
   "cell_type": "code",
   "execution_count": null,
   "id": "a0c56ed5",
   "metadata": {},
   "outputs": [],
   "source": []
  },
  {
   "cell_type": "code",
   "execution_count": null,
   "id": "24afa9a7",
   "metadata": {},
   "outputs": [],
   "source": []
  }
 ],
 "metadata": {
  "kernelspec": {
   "display_name": "Python 3 (ipykernel)",
   "language": "python",
   "name": "python3"
  },
  "language_info": {
   "codemirror_mode": {
    "name": "ipython",
    "version": 3
   },
   "file_extension": ".py",
   "mimetype": "text/x-python",
   "name": "python",
   "nbconvert_exporter": "python",
   "pygments_lexer": "ipython3",
   "version": "3.9.12"
  }
 },
 "nbformat": 4,
 "nbformat_minor": 5
}
