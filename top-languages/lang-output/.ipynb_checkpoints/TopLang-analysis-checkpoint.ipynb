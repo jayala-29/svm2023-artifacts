{
 "cells": [
  {
   "cell_type": "code",
   "execution_count": 2,
   "id": "d474d3f3",
   "metadata": {},
   "outputs": [],
   "source": [
    "import os\n",
    "import pandas as pd\n",
    "import numpy as np\n",
    "import matplotlib.pyplot as plt"
   ]
  },
  {
   "cell_type": "markdown",
   "id": "673761f7",
   "metadata": {},
   "source": [
    "# Top GitHub Languages Used"
   ]
  },
  {
   "cell_type": "code",
   "execution_count": 7,
   "id": "5c1927dc",
   "metadata": {
    "scrolled": true
   },
   "outputs": [],
   "source": [
    "lang_df = pd.DataFrame(columns=['language','percent_wf','percent_sp','avg_wfs','percent_wf_and_sp'])\n",
    "overall_wfs = 0\n",
    "overall_scs = 0\n",
    "overall_both = 0\n",
    "overall_repos = 0\n",
    "for file in os.listdir():\n",
    "    if file.endswith(\".csv\"):\n",
    "        df = pd.read_csv(file)\n",
    "        percent_workflow = round(df[df['wf_contents'].notnull()].shape[0] / df.shape[0],4) \n",
    "        percent_scpolicy = round(df[df['security_policy'].notnull()].shape[0] / df.shape[0],4) \n",
    "        wf_df = df[df['wf_contents'].notnull()]\n",
    "        wf_and_sc = round(wf_df[wf_df['security_policy'].notnull()].shape[0] / df.shape[0],4)\n",
    "        total_wf = 0\n",
    "        for index, row in wf_df.iterrows():\n",
    "            total_wf += row['wf_contents'].count(\"'active'\")\n",
    "        avg_wfs = round(total_wf / wf_df.shape[0],2)\n",
    "        lang_df.loc[len(lang_df.index)] = [file.removesuffix('-info.csv'),percent_workflow,percent_scpolicy,avg_wfs,wf_and_sc]\n",
    "        overall_wfs += wf_df.shape[0]\n",
    "        overall_scs += df[df['security_policy'].notnull()].shape[0]\n",
    "        overall_both += wf_df[wf_df['security_policy'].notnull()].shape[0]\n",
    "        overall_repos += df.shape[0]"
   ]
  },
  {
   "cell_type": "code",
   "execution_count": 4,
   "id": "5c8d1dff",
   "metadata": {
    "scrolled": true
   },
   "outputs": [
    {
     "data": {
      "text/html": [
       "<div>\n",
       "<style scoped>\n",
       "    .dataframe tbody tr th:only-of-type {\n",
       "        vertical-align: middle;\n",
       "    }\n",
       "\n",
       "    .dataframe tbody tr th {\n",
       "        vertical-align: top;\n",
       "    }\n",
       "\n",
       "    .dataframe thead th {\n",
       "        text-align: right;\n",
       "    }\n",
       "</style>\n",
       "<table border=\"1\" class=\"dataframe\">\n",
       "  <thead>\n",
       "    <tr style=\"text-align: right;\">\n",
       "      <th></th>\n",
       "      <th>language</th>\n",
       "      <th>percent_wf</th>\n",
       "      <th>percent_sp</th>\n",
       "      <th>avg_wfs</th>\n",
       "      <th>percent_wf_and_sp</th>\n",
       "    </tr>\n",
       "  </thead>\n",
       "  <tbody>\n",
       "    <tr>\n",
       "      <th>0</th>\n",
       "      <td>TeX</td>\n",
       "      <td>0.3667</td>\n",
       "      <td>0.0167</td>\n",
       "      <td>2.09</td>\n",
       "      <td>0.0167</td>\n",
       "    </tr>\n",
       "    <tr>\n",
       "      <th>1</th>\n",
       "      <td>TypeScript</td>\n",
       "      <td>1.0000</td>\n",
       "      <td>0.4833</td>\n",
       "      <td>8.47</td>\n",
       "      <td>0.4833</td>\n",
       "    </tr>\n",
       "    <tr>\n",
       "      <th>2</th>\n",
       "      <td>Shell</td>\n",
       "      <td>0.5167</td>\n",
       "      <td>0.1333</td>\n",
       "      <td>3.84</td>\n",
       "      <td>0.1167</td>\n",
       "    </tr>\n",
       "    <tr>\n",
       "      <th>3</th>\n",
       "      <td>C</td>\n",
       "      <td>0.6333</td>\n",
       "      <td>0.2667</td>\n",
       "      <td>7.47</td>\n",
       "      <td>0.2500</td>\n",
       "    </tr>\n",
       "    <tr>\n",
       "      <th>4</th>\n",
       "      <td>Python</td>\n",
       "      <td>0.7333</td>\n",
       "      <td>0.2833</td>\n",
       "      <td>5.27</td>\n",
       "      <td>0.2500</td>\n",
       "    </tr>\n",
       "    <tr>\n",
       "      <th>5</th>\n",
       "      <td>PHP</td>\n",
       "      <td>0.8500</td>\n",
       "      <td>0.4167</td>\n",
       "      <td>3.61</td>\n",
       "      <td>0.3667</td>\n",
       "    </tr>\n",
       "    <tr>\n",
       "      <th>6</th>\n",
       "      <td>CPP</td>\n",
       "      <td>0.7833</td>\n",
       "      <td>0.4500</td>\n",
       "      <td>12.47</td>\n",
       "      <td>0.3667</td>\n",
       "    </tr>\n",
       "    <tr>\n",
       "      <th>7</th>\n",
       "      <td>Java</td>\n",
       "      <td>0.6333</td>\n",
       "      <td>0.2500</td>\n",
       "      <td>5.34</td>\n",
       "      <td>0.2500</td>\n",
       "    </tr>\n",
       "    <tr>\n",
       "      <th>8</th>\n",
       "      <td>Scala</td>\n",
       "      <td>0.6833</td>\n",
       "      <td>0.1833</td>\n",
       "      <td>4.46</td>\n",
       "      <td>0.1167</td>\n",
       "    </tr>\n",
       "    <tr>\n",
       "      <th>9</th>\n",
       "      <td>CoffeeScript</td>\n",
       "      <td>0.1333</td>\n",
       "      <td>0.0167</td>\n",
       "      <td>1.50</td>\n",
       "      <td>0.0000</td>\n",
       "    </tr>\n",
       "    <tr>\n",
       "      <th>10</th>\n",
       "      <td>Haskell</td>\n",
       "      <td>0.6667</td>\n",
       "      <td>0.1167</td>\n",
       "      <td>4.00</td>\n",
       "      <td>0.1167</td>\n",
       "    </tr>\n",
       "    <tr>\n",
       "      <th>11</th>\n",
       "      <td>Clojure</td>\n",
       "      <td>0.4167</td>\n",
       "      <td>0.0500</td>\n",
       "      <td>3.52</td>\n",
       "      <td>0.0333</td>\n",
       "    </tr>\n",
       "    <tr>\n",
       "      <th>12</th>\n",
       "      <td>Dart</td>\n",
       "      <td>0.5500</td>\n",
       "      <td>0.1167</td>\n",
       "      <td>4.88</td>\n",
       "      <td>0.1167</td>\n",
       "    </tr>\n",
       "    <tr>\n",
       "      <th>13</th>\n",
       "      <td>Perl</td>\n",
       "      <td>0.3500</td>\n",
       "      <td>0.0833</td>\n",
       "      <td>3.05</td>\n",
       "      <td>0.0667</td>\n",
       "    </tr>\n",
       "    <tr>\n",
       "      <th>14</th>\n",
       "      <td>Vim-script</td>\n",
       "      <td>0.3500</td>\n",
       "      <td>0.0500</td>\n",
       "      <td>2.52</td>\n",
       "      <td>0.0333</td>\n",
       "    </tr>\n",
       "    <tr>\n",
       "      <th>15</th>\n",
       "      <td>CSS</td>\n",
       "      <td>0.2833</td>\n",
       "      <td>0.0167</td>\n",
       "      <td>2.59</td>\n",
       "      <td>0.0167</td>\n",
       "    </tr>\n",
       "    <tr>\n",
       "      <th>16</th>\n",
       "      <td>Lua</td>\n",
       "      <td>0.5833</td>\n",
       "      <td>0.1167</td>\n",
       "      <td>6.40</td>\n",
       "      <td>0.0833</td>\n",
       "    </tr>\n",
       "    <tr>\n",
       "      <th>17</th>\n",
       "      <td>Kotlin</td>\n",
       "      <td>0.8000</td>\n",
       "      <td>0.1167</td>\n",
       "      <td>3.62</td>\n",
       "      <td>0.1000</td>\n",
       "    </tr>\n",
       "    <tr>\n",
       "      <th>18</th>\n",
       "      <td>Rust</td>\n",
       "      <td>0.9667</td>\n",
       "      <td>0.3833</td>\n",
       "      <td>6.78</td>\n",
       "      <td>0.3500</td>\n",
       "    </tr>\n",
       "    <tr>\n",
       "      <th>19</th>\n",
       "      <td>MATLAB</td>\n",
       "      <td>0.0500</td>\n",
       "      <td>0.0167</td>\n",
       "      <td>1.00</td>\n",
       "      <td>0.0000</td>\n",
       "    </tr>\n",
       "    <tr>\n",
       "      <th>20</th>\n",
       "      <td>HTML</td>\n",
       "      <td>0.5500</td>\n",
       "      <td>0.0833</td>\n",
       "      <td>2.06</td>\n",
       "      <td>0.0500</td>\n",
       "    </tr>\n",
       "    <tr>\n",
       "      <th>21</th>\n",
       "      <td>Swift</td>\n",
       "      <td>0.6500</td>\n",
       "      <td>0.0333</td>\n",
       "      <td>2.77</td>\n",
       "      <td>0.0333</td>\n",
       "    </tr>\n",
       "    <tr>\n",
       "      <th>22</th>\n",
       "      <td>CSharp</td>\n",
       "      <td>0.7667</td>\n",
       "      <td>0.1833</td>\n",
       "      <td>3.78</td>\n",
       "      <td>0.1667</td>\n",
       "    </tr>\n",
       "    <tr>\n",
       "      <th>23</th>\n",
       "      <td>PowerShell</td>\n",
       "      <td>0.3667</td>\n",
       "      <td>0.1333</td>\n",
       "      <td>2.23</td>\n",
       "      <td>0.1167</td>\n",
       "    </tr>\n",
       "    <tr>\n",
       "      <th>24</th>\n",
       "      <td>Ruby</td>\n",
       "      <td>0.8333</td>\n",
       "      <td>0.4000</td>\n",
       "      <td>4.74</td>\n",
       "      <td>0.4000</td>\n",
       "    </tr>\n",
       "    <tr>\n",
       "      <th>25</th>\n",
       "      <td>Groovy</td>\n",
       "      <td>0.3667</td>\n",
       "      <td>0.1500</td>\n",
       "      <td>2.05</td>\n",
       "      <td>0.1167</td>\n",
       "    </tr>\n",
       "    <tr>\n",
       "      <th>26</th>\n",
       "      <td>Go</td>\n",
       "      <td>0.8667</td>\n",
       "      <td>0.4833</td>\n",
       "      <td>6.60</td>\n",
       "      <td>0.4167</td>\n",
       "    </tr>\n",
       "    <tr>\n",
       "      <th>27</th>\n",
       "      <td>DM</td>\n",
       "      <td>0.5902</td>\n",
       "      <td>0.0820</td>\n",
       "      <td>6.53</td>\n",
       "      <td>0.0820</td>\n",
       "    </tr>\n",
       "    <tr>\n",
       "      <th>28</th>\n",
       "      <td>ActionScript</td>\n",
       "      <td>0.0333</td>\n",
       "      <td>0.0333</td>\n",
       "      <td>1.00</td>\n",
       "      <td>0.0000</td>\n",
       "    </tr>\n",
       "    <tr>\n",
       "      <th>29</th>\n",
       "      <td>R</td>\n",
       "      <td>0.6500</td>\n",
       "      <td>0.0167</td>\n",
       "      <td>4.13</td>\n",
       "      <td>0.0167</td>\n",
       "    </tr>\n",
       "    <tr>\n",
       "      <th>30</th>\n",
       "      <td>Objective-C</td>\n",
       "      <td>0.2000</td>\n",
       "      <td>0.0667</td>\n",
       "      <td>2.50</td>\n",
       "      <td>0.0333</td>\n",
       "    </tr>\n",
       "    <tr>\n",
       "      <th>31</th>\n",
       "      <td>Julia</td>\n",
       "      <td>0.8333</td>\n",
       "      <td>0.0667</td>\n",
       "      <td>5.62</td>\n",
       "      <td>0.0667</td>\n",
       "    </tr>\n",
       "    <tr>\n",
       "      <th>32</th>\n",
       "      <td>JavaScript</td>\n",
       "      <td>0.7000</td>\n",
       "      <td>0.3833</td>\n",
       "      <td>4.50</td>\n",
       "      <td>0.3667</td>\n",
       "    </tr>\n",
       "    <tr>\n",
       "      <th>33</th>\n",
       "      <td>Elixir</td>\n",
       "      <td>0.7333</td>\n",
       "      <td>0.1167</td>\n",
       "      <td>2.64</td>\n",
       "      <td>0.1167</td>\n",
       "    </tr>\n",
       "  </tbody>\n",
       "</table>\n",
       "</div>"
      ],
      "text/plain": [
       "        language  percent_wf  percent_sp  avg_wfs  percent_wf_and_sp\n",
       "0            TeX      0.3667      0.0167     2.09             0.0167\n",
       "1     TypeScript      1.0000      0.4833     8.47             0.4833\n",
       "2          Shell      0.5167      0.1333     3.84             0.1167\n",
       "3              C      0.6333      0.2667     7.47             0.2500\n",
       "4         Python      0.7333      0.2833     5.27             0.2500\n",
       "5            PHP      0.8500      0.4167     3.61             0.3667\n",
       "6            CPP      0.7833      0.4500    12.47             0.3667\n",
       "7           Java      0.6333      0.2500     5.34             0.2500\n",
       "8          Scala      0.6833      0.1833     4.46             0.1167\n",
       "9   CoffeeScript      0.1333      0.0167     1.50             0.0000\n",
       "10       Haskell      0.6667      0.1167     4.00             0.1167\n",
       "11       Clojure      0.4167      0.0500     3.52             0.0333\n",
       "12          Dart      0.5500      0.1167     4.88             0.1167\n",
       "13          Perl      0.3500      0.0833     3.05             0.0667\n",
       "14    Vim-script      0.3500      0.0500     2.52             0.0333\n",
       "15           CSS      0.2833      0.0167     2.59             0.0167\n",
       "16           Lua      0.5833      0.1167     6.40             0.0833\n",
       "17        Kotlin      0.8000      0.1167     3.62             0.1000\n",
       "18          Rust      0.9667      0.3833     6.78             0.3500\n",
       "19        MATLAB      0.0500      0.0167     1.00             0.0000\n",
       "20          HTML      0.5500      0.0833     2.06             0.0500\n",
       "21         Swift      0.6500      0.0333     2.77             0.0333\n",
       "22        CSharp      0.7667      0.1833     3.78             0.1667\n",
       "23    PowerShell      0.3667      0.1333     2.23             0.1167\n",
       "24          Ruby      0.8333      0.4000     4.74             0.4000\n",
       "25        Groovy      0.3667      0.1500     2.05             0.1167\n",
       "26            Go      0.8667      0.4833     6.60             0.4167\n",
       "27            DM      0.5902      0.0820     6.53             0.0820\n",
       "28  ActionScript      0.0333      0.0333     1.00             0.0000\n",
       "29             R      0.6500      0.0167     4.13             0.0167\n",
       "30   Objective-C      0.2000      0.0667     2.50             0.0333\n",
       "31         Julia      0.8333      0.0667     5.62             0.0667\n",
       "32    JavaScript      0.7000      0.3833     4.50             0.3667\n",
       "33        Elixir      0.7333      0.1167     2.64             0.1167"
      ]
     },
     "execution_count": 4,
     "metadata": {},
     "output_type": "execute_result"
    }
   ],
   "source": [
    "lang_df"
   ]
  },
  {
   "cell_type": "code",
   "execution_count": 8,
   "id": "1923d979",
   "metadata": {},
   "outputs": [
    {
     "name": "stdout",
     "output_type": "stream",
     "text": [
      "0.5732484076433121\n",
      "0.1705046545810877\n",
      "0.15041646251837335\n"
     ]
    }
   ],
   "source": [
    "print(overall_wfs / overall_repos)\n",
    "print(overall_scs / overall_repos)\n",
    "print(overall_both / overall_repos)"
   ]
  },
  {
   "cell_type": "code",
   "execution_count": 37,
   "id": "ce1ec667",
   "metadata": {},
   "outputs": [
    {
     "name": "stdout",
     "output_type": "stream",
     "text": [
      "1170\n",
      "348\n",
      "4.236176470588235\n",
      "0.5732382352941175\n"
     ]
    }
   ],
   "source": [
    "print(overall_wfs)\n",
    "print(overall_scs)\n",
    "print(lang_df['avg_wfs'].mean())\n",
    "print(lang_df['percent_wf'].mean())"
   ]
  },
  {
   "cell_type": "code",
   "execution_count": 30,
   "id": "ab7cec2b",
   "metadata": {},
   "outputs": [
    {
     "data": {
      "image/png": "[encoded data removed]",
      "text/plain": [
       "<Figure size 432x288 with 1 Axes>"
      ]
     },
     "metadata": {
      "needs_background": "light"
     },
     "output_type": "display_data"
    },
    {
     "data": {
      "image/png": "[encoded data removed]",
      "text/plain": [
       "<Figure size 432x288 with 1 Axes>"
      ]
     },
     "metadata": {
      "needs_background": "light"
     },
     "output_type": "display_data"
    }
   ],
   "source": [
    "# Plot the dataframe\n",
    "lang_df[['percent_wf', 'percent_sp', 'percent_wf_and_sp']].plot(kind='box')\n",
    "plt.ylabel(\"Percentage of Collected Repos\",fontweight='bold')\n",
    "plt.xticks([1,2,3],labels=['Workflows','Security Policies','Both'])\n",
    "plt.yticks([0,0.2,0.4,0.6,0.8,1.0],labels=['0','20','40','60','80','100'])\n",
    "plt.xlabel(\"Repo Configurations\",fontweight='bold')\n",
    "\n",
    "# Display the plot\n",
    "plt.show()\n",
    "\n",
    "# Plot the dataframe\n",
    "lang_df['avg_wfs'].plot(kind='box')\n",
    "plt.ylabel(\"Average Number of Workflows\",fontweight='bold')\n",
    "plt.xticks([1],labels=['Repos with Top Programming Languages Used'])\n",
    "plt.xlabel('Sample Source',fontweight='bold')\n",
    "plt.show()"
   ]
  },
  {
   "cell_type": "code",
   "execution_count": 13,
   "id": "d1437035",
   "metadata": {},
   "outputs": [
    {
     "name": "stdout",
     "output_type": "stream",
     "text": [
      "0.5732382352941175\n",
      "0.17055\n",
      "0.15046176470588232\n",
      "4.236176470588235\n"
     ]
    }
   ],
   "source": [
    "print(lang_df['percent_wf'].mean())\n",
    "print(lang_df['percent_sp'].mean())\n",
    "print(lang_df['percent_wf_and_sp'].mean())\n",
    "print(lang_df['avg_wfs'].mean())"
   ]
  },
  {
   "cell_type": "markdown",
   "id": "70cafade",
   "metadata": {},
   "source": [
    "# Repos with CodeQL Support"
   ]
  },
  {
   "cell_type": "code",
   "execution_count": 17,
   "id": "2a0ca5b6",
   "metadata": {},
   "outputs": [
    {
     "name": "stdout",
     "output_type": "stream",
     "text": [
      "TypeScript 0.217\n",
      "C 0.1\n",
      "Python 0.1\n",
      "CPP 0.1\n",
      "Java 0.117\n",
      "Kotlin 0.017\n",
      "CSharp 0.1\n",
      "Ruby 0.1\n",
      "Go 0.35\n",
      "JavaScript 0.15\n",
      "All repos with CodeQL: 0.135\n"
     ]
    }
   ],
   "source": [
    "codeql_langs = ['C','CPP','CSharp','Java','Go','Kotlin','JavaScript','Ruby','Python','TypeScript']\n",
    "lang_order = []\n",
    "vals = []\n",
    "overall_codeql = 0\n",
    "for file in os.listdir():\n",
    "    if file.removesuffix('-info.csv') in codeql_langs:\n",
    "        lang_order.append(file.removesuffix('-info.csv'))\n",
    "        df = pd.read_csv(file)\n",
    "        wf_df = df[df['wf_contents'].notnull()]\n",
    "        total_codeql = 0\n",
    "        for index, row in wf_df.iterrows():\n",
    "            if (\"CodeQL\" in row['wf_contents']):\n",
    "                total_codeql += 1\n",
    "                overall_codeql += 1\n",
    "        codeql_frac = round(total_codeql / df.shape[0],3)\n",
    "        vals.append(codeql_frac)\n",
    "        print(file.removesuffix('-info.csv'),codeql_frac)\n",
    "print(\"All repos with CodeQL:\",str(overall_codeql / 600))"
   ]
  },
  {
   "cell_type": "code",
   "execution_count": 32,
   "id": "09035699",
   "metadata": {},
   "outputs": [
    {
     "data": {
      "image/png": "[encoded data removed]",
      "text/plain": [
       "<Figure size 432x288 with 1 Axes>"
      ]
     },
     "metadata": {
      "needs_background": "light"
     },
     "output_type": "display_data"
    }
   ],
   "source": [
    "x = [1,2,3,4,5,6,7,8,9,10]\n",
    "plt.scatter(x,vals)\n",
    "plt.xticks(x,labels=lang_order,rotation='vertical')\n",
    "plt.yticks([0,0.25,0.5,0.75,1])\n",
    "plt.xlabel(\"CodeQL-Supported Language Categories\",fontweight='bold')\n",
    "plt.ylabel(\"Percentage of Repos with a CodeQL Workflow\",fontweight='bold')\n",
    "plt.yticks([0,0.25,0.50,0.75,1.00],labels=['0','25','50','75','100'])\n",
    "plt.show()"
   ]
  },
  {
   "cell_type": "code",
   "execution_count": 24,
   "id": "a2838b8d",
   "metadata": {},
   "outputs": [
    {
     "data": {
      "text/plain": [
       "0.1351"
      ]
     },
     "execution_count": 24,
     "metadata": {},
     "output_type": "execute_result"
    }
   ],
   "source": [
    "sum(vals) / len(vals)"
   ]
  },
  {
   "cell_type": "code",
   "execution_count": null,
   "id": "924efb00",
   "metadata": {},
   "outputs": [],
   "source": []
  }
 ],
 "metadata": {
  "kernelspec": {
   "display_name": "Python 3 (ipykernel)",
   "language": "python",
   "name": "python3"
  },
  "language_info": {
   "codemirror_mode": {
    "name": "ipython",
    "version": 3
   },
   "file_extension": ".py",
   "mimetype": "text/x-python",
   "name": "python",
   "nbconvert_exporter": "python",
   "pygments_lexer": "ipython3",
   "version": "3.9.12"
  }
 },
 "nbformat": 4,
 "nbformat_minor": 5
}
